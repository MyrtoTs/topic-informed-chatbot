{
 "cells": [
  {
   "cell_type": "code",
   "execution_count": 15,
   "metadata": {},
   "outputs": [
    {
     "data": {
      "text/html": [
       "<div>\n",
       "<style scoped>\n",
       "    .dataframe tbody tr th:only-of-type {\n",
       "        vertical-align: middle;\n",
       "    }\n",
       "\n",
       "    .dataframe tbody tr th {\n",
       "        vertical-align: top;\n",
       "    }\n",
       "\n",
       "    .dataframe thead th {\n",
       "        text-align: right;\n",
       "    }\n",
       "</style>\n",
       "<table border=\"1\" class=\"dataframe\">\n",
       "  <thead>\n",
       "    <tr style=\"text-align: right;\">\n",
       "      <th></th>\n",
       "      <th>Subreddit</th>\n",
       "      <th>Comment pairs</th>\n",
       "    </tr>\n",
       "  </thead>\n",
       "  <tbody>\n",
       "    <tr>\n",
       "      <th>0</th>\n",
       "      <td>AskReddit</td>\n",
       "      <td>362951</td>\n",
       "    </tr>\n",
       "    <tr>\n",
       "      <th>1</th>\n",
       "      <td>politics</td>\n",
       "      <td>208999</td>\n",
       "    </tr>\n",
       "    <tr>\n",
       "      <th>2</th>\n",
       "      <td>nfl</td>\n",
       "      <td>136518</td>\n",
       "    </tr>\n",
       "    <tr>\n",
       "      <th>3</th>\n",
       "      <td>The_Donald</td>\n",
       "      <td>118869</td>\n",
       "    </tr>\n",
       "    <tr>\n",
       "      <th>4</th>\n",
       "      <td>CFB</td>\n",
       "      <td>91559</td>\n",
       "    </tr>\n",
       "    <tr>\n",
       "      <th>5</th>\n",
       "      <td>nba</td>\n",
       "      <td>88889</td>\n",
       "    </tr>\n",
       "    <tr>\n",
       "      <th>6</th>\n",
       "      <td>funny</td>\n",
       "      <td>82936</td>\n",
       "    </tr>\n",
       "    <tr>\n",
       "      <th>7</th>\n",
       "      <td>soccer</td>\n",
       "      <td>76335</td>\n",
       "    </tr>\n",
       "    <tr>\n",
       "      <th>8</th>\n",
       "      <td>leagueoflegends</td>\n",
       "      <td>72026</td>\n",
       "    </tr>\n",
       "    <tr>\n",
       "      <th>9</th>\n",
       "      <td>worldnews</td>\n",
       "      <td>70917</td>\n",
       "    </tr>\n",
       "    <tr>\n",
       "      <th>10</th>\n",
       "      <td>news</td>\n",
       "      <td>66335</td>\n",
       "    </tr>\n",
       "    <tr>\n",
       "      <th>11</th>\n",
       "      <td>todayilearned</td>\n",
       "      <td>62490</td>\n",
       "    </tr>\n",
       "    <tr>\n",
       "      <th>12</th>\n",
       "      <td>wow</td>\n",
       "      <td>57551</td>\n",
       "    </tr>\n",
       "    <tr>\n",
       "      <th>13</th>\n",
       "      <td>gaming</td>\n",
       "      <td>56880</td>\n",
       "    </tr>\n",
       "    <tr>\n",
       "      <th>14</th>\n",
       "      <td>fantasyfootball</td>\n",
       "      <td>52742</td>\n",
       "    </tr>\n",
       "  </tbody>\n",
       "</table>\n",
       "</div>"
      ],
      "text/plain": [
       "          Subreddit  Comment pairs\n",
       "0         AskReddit         362951\n",
       "1          politics         208999\n",
       "2               nfl         136518\n",
       "3        The_Donald         118869\n",
       "4               CFB          91559\n",
       "5               nba          88889\n",
       "6             funny          82936\n",
       "7            soccer          76335\n",
       "8   leagueoflegends          72026\n",
       "9         worldnews          70917\n",
       "10             news          66335\n",
       "11    todayilearned          62490\n",
       "12              wow          57551\n",
       "13           gaming          56880\n",
       "14  fantasyfootball          52742"
      ]
     },
     "execution_count": 15,
     "metadata": {},
     "output_type": "execute_result"
    }
   ],
   "source": [
    "sb = pd.DataFrame(subreddits[0:15], columns = ['Subreddit'])\n",
    "cc = pd.DataFrame(count_comments[0:15], columns = ['Comment pairs'])\n",
    "pd.concat([sb,cc], axis = 1)"
   ]
  },
  {
   "cell_type": "code",
   "execution_count": null,
   "metadata": {},
   "outputs": [],
   "source": [
    "import sqlite3\n",
    "import pandas as pd\n",
    "\n",
    "database_path = ''\n",
    "conn = sqlite3.connect(database_path)\n",
    "cursor = conn.cursor()"
   ]
  },
  {
   "cell_type": "code",
   "execution_count": null,
   "metadata": {},
   "outputs": [],
   "source": [
    "cursor.execute(\"\"\"SELECT COUNT(*) FROM comment_pairs\"\"\")\n",
    "sum_of_comment_pairs = cursor.fetchone()\n",
    "\n",
    "cursor.execute(\"\"\"SELECT COUNT(DISTINCT subreddit) FROM comment_pairs\"\"\")\n",
    "sum_of_subreddits = cursor.fetchone()\n",
    "print('Subreddits are '+ sum_of_subreddits +' with '+ str(sum_of_comment_pairs)+ ' comment pairs.')"
   ]
  },
  {
   "cell_type": "code",
   "execution_count": null,
   "metadata": {},
   "outputs": [],
   "source": [
    "cursor.execute(\"\"\"SELECT subreddit, COUNT(subreddit) FROM comment_pairs GROUP BY subreddit HAVING COUNT(subreddit)<10\"\"\")\n",
    "ps = cursor.fetchall()\n",
    "print('Subreddits with less than 10 comment pairs: ' + str(len(ps)))"
   ]
  },
  {
   "cell_type": "code",
   "execution_count": null,
   "metadata": {},
   "outputs": [],
   "source": [
    "cursor.execute(\"\"\"SELECT subreddit, COUNT(subreddit) FROM comment_pairs GROUP BY subreddit HAVING COUNT(subreddit)>1000 ORDER BY COUNT(subreddit) DESC\"\"\")\n",
    "big_enough_subreddits = cursor.fetchall()\n",
    "\n",
    "subreddits, count_comments = map(list, zip(*big_enough_subreddits))\n",
    "print('There are ' + str(len(big_enough_subreddits)) +' subreddits to be used with total number of comment pairs: ' +str(sum(count_comments)))\n"
   ]
  },
  {
   "cell_type": "code",
   "execution_count": null,
   "metadata": {},
   "outputs": [],
   "source": []
  }
 ],
 "metadata": {
  "kernelspec": {
   "display_name": "Python 3",
   "language": "python",
   "name": "python3"
  },
  "language_info": {
   "codemirror_mode": {
    "name": "ipython",
    "version": 3
   },
   "file_extension": ".py",
   "mimetype": "text/x-python",
   "name": "python",
   "nbconvert_exporter": "python",
   "pygments_lexer": "ipython3",
   "version": "3.5.2"
  }
 },
 "nbformat": 4,
 "nbformat_minor": 2
}
