{
 "cells": [
  {
   "cell_type": "code",
   "execution_count": 1,
   "metadata": {},
   "outputs": [
    {
     "name": "stdout",
     "output_type": "stream",
     "text": [
      "Comments:\n",
      "15239328\n",
      "\n",
      "Labels dictionary size:\n",
      "1342\n"
     ]
    }
   ],
   "source": [
    "with open('data.train', 'r', 10000) as t:\n",
    "    lines = t.read().splitlines()\n",
    "    \n",
    "print('Comments:')\n",
    "print(len(lines))\n",
    "\n",
    "with open('subreddits.train','r') as l:\n",
    "    ls = l.read().splitlines()\n",
    "    label_names = list(set(ls))\n",
    "        \n",
    "# print(label_names)\n",
    "\n",
    "labels_dict = {}\n",
    "labels_dict_inv = {}\n",
    "for i, label_name in enumerate(label_names):\n",
    "    labels_dict[i] = label_name\n",
    "    labels_dict_inv[label_name] = i\n",
    "\n",
    "print('\\nLabels dictionary size:')\n",
    "print(len(labels_dict))"
   ]
  },
  {
   "cell_type": "code",
   "execution_count": 2,
   "metadata": {},
   "outputs": [],
   "source": [
    "WordCounter = {}\n",
    "for l in label_names:\n",
    "    WordCounter[l]= 0 \n",
    "\n",
    "for dt, lb in zip(lines,ls):\n",
    "    WordCounter[lb] += len(dt.split(' '))\n",
    "        \n",
    "# print(WordCounter)"
   ]
  },
  {
   "cell_type": "code",
   "execution_count": 5,
   "metadata": {},
   "outputs": [
    {
     "name": "stdout",
     "output_type": "stream",
     "text": [
      "Working on 100\n",
      "Working on 200\n",
      "Working on 300\n",
      "Working on 400\n",
      "Working on 500\n",
      "Working on 600\n",
      "Working on 700\n",
      "Working on 800\n",
      "Working on 900\n",
      "Working on 1000\n",
      "Working on 1100\n",
      "Working on 1200\n",
      "Working on 1300\n"
     ]
    }
   ],
   "source": [
    "k=0\n",
    "with open('LDA_pseudodocuments.train' ,'w') as f:\n",
    "    for l in label_names:\n",
    "        k+=1\n",
    "        if k%100 == 0:\n",
    "            print('Working on '+ str(k))\n",
    "#         print(l)\n",
    "#         print(WordCounter[l])\n",
    "        w=0\n",
    "        count_tokens = 0\n",
    "        count_pseudo = 0\n",
    "        text = \"\"\n",
    "        for dt, lb in zip(lines,ls):\n",
    "            if count_pseudo >= 3:\n",
    "                break\n",
    "            if lb==l:\n",
    "                text += dt+' ' \n",
    "                count_tokens += len(dt.split(' '))\n",
    "                w += len(dt.split(' '))\n",
    "            if WordCounter[l] - w >= 2000:            \n",
    "                if count_tokens >= 2000:\n",
    "                    f.write(str(text) + '\\n') \n",
    "#                     print(count_tokens)\n",
    "                    count_pseudo += 1\n",
    "                    count_tokens = 0\n",
    "                    text=''\n",
    "            else:\n",
    "                if w==WordCounter[l]:\n",
    "                    f.write(str(text) + '\\n') \n",
    "                    count_pseudo += 1\n",
    "#                     print(count_tokens)\n",
    "                    break\n",
    "#         print(count_pseudo)\n",
    "f.close()"
   ]
  },
  {
   "cell_type": "code",
   "execution_count": null,
   "metadata": {},
   "outputs": [],
   "source": []
  }
 ],
 "metadata": {
  "kernelspec": {
   "display_name": "Python 3",
   "language": "python",
   "name": "python3"
  },
  "language_info": {
   "codemirror_mode": {
    "name": "ipython",
    "version": 3
   },
   "file_extension": ".py",
   "mimetype": "text/x-python",
   "name": "python",
   "nbconvert_exporter": "python",
   "pygments_lexer": "ipython3",
   "version": "3.5.2"
  }
 },
 "nbformat": 4,
 "nbformat_minor": 2
}
